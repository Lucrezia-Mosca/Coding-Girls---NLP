{
  "nbformat": 4,
  "nbformat_minor": 0,
  "metadata": {
    "colab": {
      "provenance": [],
      "authorship_tag": "ABX9TyOhExhl7Uq2B0Vn/isajWKo",
      "include_colab_link": true
    },
    "kernelspec": {
      "name": "python3",
      "display_name": "Python 3"
    },
    "language_info": {
      "name": "python"
    }
  },
  "cells": [
    {
      "cell_type": "markdown",
      "metadata": {
        "id": "view-in-github",
        "colab_type": "text"
      },
      "source": [
        "<a href=\"https://colab.research.google.com/github/Lucrezia-Mosca/Coding-Girls---NLP/blob/main/Pre_Processing.ipynb\" target=\"_parent\"><img src=\"https://colab.research.google.com/assets/colab-badge.svg\" alt=\"Open In Colab\"/></a>"
      ]
    },
    {
      "cell_type": "code",
      "execution_count": null,
      "metadata": {
        "id": "B-Fn3iW1X8G9"
      },
      "outputs": [],
      "source": [
        "import pandas as pd\n",
        "import re\n",
        "import string\n",
        "import nltk\n",
        "from nltk.corpus import stopwords\n",
        "from nltk.tokenize import word_tokenize\n",
        "from nltk.stem import SnowballStemmer\n",
        "\n",
        "from google.colab import drive\n",
        "drive.mount('/content/gdrive')\n",
        "\n",
        "# Assicurarsi di avere i pacchetti necessari\n",
        "nltk.download('stopwords')\n",
        "nltk.download('punkt')\n",
        "nltk.download('punkt_tab')\n",
        "\n",
        "# Caricare il dataset\n",
        "file_path = '/content/gdrive/MyDrive/emit_train_A.csv'\n",
        "df = pd.read_csv(file_path)\n",
        "\n",
        "# Rimuovere la colonna 'id'\n",
        "df.drop(columns=['id'], inplace=True)\n",
        "\n",
        "# Inizializzare strumenti per NLP\n",
        "stop_words = set(stopwords.words('italian'))\n",
        "stemmer = SnowballStemmer('italian')\n",
        "\n",
        "def clean_text(text):\n",
        "    # Rimuovere menzioni\n",
        "    text = re.sub(r'@\\w+', '', text)\n",
        "    # Rimuovere gli URL\n",
        "    text = re.sub(r'https?://\\S+', 'url', text)\n",
        "    # Rimuovere gli hashtag\n",
        "    text = re.sub(r'#\\w+', '', text)\n",
        "    # Rimuovere punteggiatura e numeri\n",
        "    text = text.translate(str.maketrans('', '', string.punctuation + string.digits))\n",
        "    # Convertire in minuscolo\n",
        "    text = text.lower()\n",
        "    # Tokenizzare\n",
        "    tokens = word_tokenize(text)\n",
        "    # Rimuovere stopwords e applicare stemming\n",
        "    tokens = [stemmer.stem(word) for word in tokens if word not in stop_words]\n",
        "    return ' '.join(tokens)\n",
        "\n",
        "# Applicare la pulizia al testo\n",
        "df['clean_text'] = df['text'].apply(clean_text)\n",
        "\n",
        "#print(df['clean_text'])\n",
        "\n",
        "# Salvare il dataset preprocessato\n",
        "df.to_csv(\"/content/gdrive/MyDrive/emit_train_A_clean.csv\", index=False)\n",
        "\n",
        "print(\"Preprocessing completato. File salvato come 'emit_train_A_clean.csv'\")\n"
      ]
    }
  ]
}